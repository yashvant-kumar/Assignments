{
 "cells": [
  {
   "cell_type": "markdown",
   "metadata": {},
   "source": [
    "# Assignment_2:"
   ]
  },
  {
   "cell_type": "markdown",
   "metadata": {},
   "source": [
    "Write a Python Program to implement your own myreduce() function which works exactly like Python's built-in function reduce()"
   ]
  },
  {
   "cell_type": "code",
   "execution_count": 1,
   "metadata": {},
   "outputs": [
    {
     "data": {
      "text/plain": [
       "75.36"
      ]
     },
     "execution_count": 1,
     "metadata": {},
     "output_type": "execute_result"
    }
   ],
   "source": [
    "# Example of reduce() for multiplication:\n",
    "\n",
    "def myreduce(num):\n",
    "    multiplication = num[0]\n",
    "    for value in num[1:]:\n",
    "        multiplication = multiplication * value\n",
    "    return multiplication\n",
    "\n",
    "num = [2, 3.14, 3, 4]\n",
    "myreduce(num)"
   ]
  },
  {
   "cell_type": "markdown",
   "metadata": {},
   "source": [
    "Write a Python program to implement your own myfilter() function which works exactly like Python's built-in function filter()"
   ]
  },
  {
   "cell_type": "code",
   "execution_count": 2,
   "metadata": {},
   "outputs": [
    {
     "data": {
      "text/plain": [
       "[2, 0, 3, -5, 1.11]"
      ]
     },
     "execution_count": 2,
     "metadata": {},
     "output_type": "execute_result"
    }
   ],
   "source": [
    "# Example of filter() for picking numbers less than 5:\n",
    "\n",
    "def myfilter(num):\n",
    "    final = []\n",
    "    for value in num:\n",
    "        if value < 5:\n",
    "            final.append(value)\n",
    "    return final\n",
    "\n",
    "num = [7, 2, 5, 8, 0, 3, 14.77, -5, 1.11]\n",
    "myfilter(num)"
   ]
  },
  {
   "cell_type": "markdown",
   "metadata": {},
   "source": [
    "Write List comprehensions to produce the following Lists\n",
    "['A', 'C', 'A', 'D', 'G', 'I', ’L’, ‘ D’]\n",
    "['x', 'xx', 'xxx', 'xxxx', 'y', 'yy', 'yyy', 'yyyy', 'z', 'zz', 'zzz', 'zzzz']\n",
    "['x', 'y', 'z', 'xx', 'yy', 'zz', 'xx', 'yy', 'zz', 'xxxx', 'yyyy', 'zzzz']\n",
    "[[2], [3], [4], [3], [4], [5], [4], [5], [6]]\n",
    "[[2, 3, 4, 5], [3, 4, 5, 6], [4, 5, 6, 7], [5, 6, 7, 8]]\n",
    "[(1, 1), (2, 1), (3, 1), (1, 2), (2, 2), (3, 2), (1, 3), (2, 3), (3, 3)]"
   ]
  },
  {
   "cell_type": "code",
   "execution_count": 3,
   "metadata": {
    "scrolled": true
   },
   "outputs": [
    {
     "name": "stdout",
     "output_type": "stream",
     "text": [
      "['A', 'C', 'A', 'D', 'G', 'I', 'L', 'D']\n",
      "['x', 'xx', 'xxx', 'xxxx', 'y', 'yy', 'yyy', 'yyyy', 'z', 'zz', 'zzz', 'zzzz']\n",
      "['x', 'y', 'z', 'xx', 'yy', 'zz', 'xxx', 'yyy', 'zzz', 'xxxx', 'yyyy', 'zzzz']\n",
      "[[2], [3], [4], [3], [4], [5], [4], [5], [6]]\n",
      "[[2, 3, 4, 5], [3, 4, 5, 6], [4, 5, 6, 7], [5, 6, 7, 8]]\n",
      "[(1, 1), (2, 1), (3, 1), (1, 2), (2, 2), (3, 2), (1, 3), (2, 3), (3, 3)]\n"
     ]
    }
   ],
   "source": [
    "print([value for value in 'ACADGILD'])\n",
    "print([value * num for value in 'xyz' for num in range(1, 5)])\n",
    "print([value * num for num in range(1, 5) for value in 'xyz'])\n",
    "print([[value + num] for value in range(1, 4) for num in range(1, 4)])\n",
    "print([[value + num for value in range(1, 5)] for num in range(1, 5)])\n",
    "print([(num, value) for value in range(1, 4) for num in range(1, 4)])"
   ]
  },
  {
   "cell_type": "markdown",
   "metadata": {},
   "source": [
    "Implement a function longestWord() that takes a list of words and returns the longest one."
   ]
  },
  {
   "cell_type": "code",
   "execution_count": 4,
   "metadata": {},
   "outputs": [
    {
     "name": "stdout",
     "output_type": "stream",
     "text": [
      "Longest Word: Ronaldo\n"
     ]
    }
   ],
   "source": [
    "def longestWord():\n",
    "    value = 0\n",
    "    for name in names:\n",
    "        if len(name) > value:\n",
    "            value = len(name)\n",
    "            longest_word = name\n",
    "    print('Longest Word:', longest_word)\n",
    "\n",
    "\n",
    "names = ['Messi', 'Kaka', 'Ronaldo', 'Lucas']\n",
    "longestWord()"
   ]
  },
  {
   "cell_type": "markdown",
   "metadata": {},
   "source": [
    "Write a Python Program(with class concepts) to find the area of the triangle using the below formula.\n",
    "area = (s*(s-a)*(s-b)*(s-c)) ** 0.5"
   ]
  },
  {
   "cell_type": "code",
   "execution_count": 5,
   "metadata": {},
   "outputs": [
    {
     "name": "stdout",
     "output_type": "stream",
     "text": [
      "Area: 72.61843774138907\n"
     ]
    }
   ],
   "source": [
    "class Sides:\n",
    "    \"\"\"Getting the sides of the triangle\"\"\"\n",
    "\n",
    "    def __init__(self, a, b, c):\n",
    "        self.side1 = a\n",
    "        self.side2 = b\n",
    "        self.side3 = c\n",
    "\n",
    "    def perimeter(self):\n",
    "        circum = (self.side1 + self.side2 + self.side3) / 2\n",
    "        return circum\n",
    "\n",
    "\n",
    "class Area(Sides):\n",
    "    \"\"\"Calculating the Area\"\"\"\n",
    "\n",
    "    def __init__(self, a, b, c):\n",
    "        super().__init__(a, b, c)\n",
    "        s = self.perimeter()\n",
    "        area = (s * (s - a) * (s - b) * (s - c)) ** 0.5\n",
    "        print('Area:', area)\n",
    "\n",
    "\n",
    "X = Area(15, 20, 10)"
   ]
  },
  {
   "cell_type": "markdown",
   "metadata": {},
   "source": [
    "Write a function filter_long_words() that takes a list of words and an integer n and returns the list of words that are longer than n."
   ]
  },
  {
   "cell_type": "code",
   "execution_count": 6,
   "metadata": {},
   "outputs": [
    {
     "name": "stdout",
     "output_type": "stream",
     "text": [
      "Enter a number: 5\n",
      "['Elizabeth', 'Joseph', 'Robert', 'Patrick']\n"
     ]
    }
   ],
   "source": [
    "def filter_long_words():\n",
    "    words = []\n",
    "    value = int(input('Enter a number: '))\n",
    "    for name in names:\n",
    "        if len(name) > value:\n",
    "            words.append(name)\n",
    "    print(words)\n",
    "    \n",
    "names = ['Elizabeth', 'Mary', 'Joseph', 'Robert', 'Tom', 'Patrick']\n",
    "filter_long_words()"
   ]
  },
  {
   "cell_type": "markdown",
   "metadata": {},
   "source": [
    "Write a Python program using function concept that maps list of words into a list of integers representing the lengths of the corresponding words ."
   ]
  },
  {
   "cell_type": "code",
   "execution_count": 7,
   "metadata": {},
   "outputs": [
    {
     "name": "stdout",
     "output_type": "stream",
     "text": [
      "[9, 4, 6, 6, 3, 7]\n"
     ]
    }
   ],
   "source": [
    "def listNames():\n",
    "    length = []\n",
    "    for name in names:\n",
    "        value = int(len(name))\n",
    "        length.append(value)\n",
    "    print(length)\n",
    "\n",
    "\n",
    "names = ['Elizabeth', 'Mary', 'Joseph', 'Robert', 'Tom', 'Patrick']\n",
    "x = map(listNames(), names)"
   ]
  },
  {
   "cell_type": "markdown",
   "metadata": {},
   "source": [
    "Write a Python function which takes a character (i.e. a string of length 1) and returns True if it is a vowel, False otherwise."
   ]
  },
  {
   "cell_type": "code",
   "execution_count": 8,
   "metadata": {},
   "outputs": [
    {
     "name": "stdout",
     "output_type": "stream",
     "text": [
      "Enter a character: U\n",
      "It is a Vowel\n"
     ]
    }
   ],
   "source": [
    "def findVowel():\n",
    "    vowel = ['a', 'e', 'i', 'o', 'u']\n",
    "    if word.casefold() in vowel:\n",
    "        print('It is a Vowel')\n",
    "    else:\n",
    "        print('Not a Vowel')\n",
    "\n",
    "\n",
    "word = input('Enter a character: ')\n",
    "findVowel()"
   ]
  },
  {
   "cell_type": "code",
   "execution_count": null,
   "metadata": {},
   "outputs": [],
   "source": []
  }
 ],
 "metadata": {
  "kernelspec": {
   "display_name": "Python 3",
   "language": "python",
   "name": "python3"
  },
  "language_info": {
   "codemirror_mode": {
    "name": "ipython",
    "version": 3
   },
   "file_extension": ".py",
   "mimetype": "text/x-python",
   "name": "python",
   "nbconvert_exporter": "python",
   "pygments_lexer": "ipython3",
   "version": "3.7.6"
  }
 },
 "nbformat": 4,
 "nbformat_minor": 4
}
