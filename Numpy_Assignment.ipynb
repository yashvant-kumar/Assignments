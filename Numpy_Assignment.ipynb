{
 "cells": [
  {
   "cell_type": "markdown",
   "metadata": {},
   "source": [
    "Write a function so that the columns of the output matrix are powers of the input vector. The order of the powers is determined by the increasing boolean argument. Specifically, when increasing is False, the i-th output column is the input vector raised element-wise to the power of N - i - 1."
   ]
  },
  {
   "cell_type": "code",
   "execution_count": 1,
   "metadata": {},
   "outputs": [],
   "source": [
    "import numpy as np"
   ]
  },
  {
   "cell_type": "code",
   "execution_count": 2,
   "metadata": {},
   "outputs": [
    {
     "name": "stdout",
     "output_type": "stream",
     "text": [
      "The Output is: \n",
      "[[ 1.      1.      1.    ]\n",
      " [ 0.      0.      1.    ]\n",
      " [ 4.     -2.      1.    ]\n",
      " [16.      4.      1.    ]\n",
      " [25.      5.      1.    ]\n",
      " [ 9.8596 -3.14    1.    ]\n",
      " [ 9.      3.      1.    ]]\n",
      "------------------------------\n",
      "The Output is: \n",
      "[[ 1.      1.      1.    ]\n",
      " [ 1.      0.      0.    ]\n",
      " [ 1.     -2.      4.    ]\n",
      " [ 1.      4.     16.    ]\n",
      " [ 1.      5.     25.    ]\n",
      " [ 1.     -3.14    9.8596]\n",
      " [ 1.      3.      9.    ]]\n",
      "------------------------------\n"
     ]
    }
   ],
   "source": [
    "def square(col, increasing):\n",
    "    output = np.vander(input_vector, col, increasing)\n",
    "    print(f'The Output is: \\n{output}')\n",
    "    print('-' * 30)\n",
    "\n",
    "\n",
    "input_vector = np.array([1, 0, -2, 4, 5, -3.14, 3])\n",
    "square(3, False)\n",
    "square(3, True)"
   ]
  },
  {
   "cell_type": "markdown",
   "metadata": {},
   "source": [
    "Given a sequence of n values x1, x2, ..., xn and a window size k>0, the k-th moving average of\n",
    "the given sequence is defined as follows:\n",
    "The moving average sequence has n-k+1 elements as shown below.\n",
    "Write a function to find moving average in an array over a window:\n",
    "Test it over [3, 5, 7, 2, 8, 10, 11, 65, 72, 81, 99, 100, 150] and window of 3."
   ]
  },
  {
   "cell_type": "code",
   "execution_count": 3,
   "metadata": {
    "scrolled": true
   },
   "outputs": [
    {
     "name": "stdout",
     "output_type": "stream",
     "text": [
      "array([  5.        ,   4.66666667,   5.66666667,   6.66666667,\n",
      "         9.66666667,  28.66666667,  49.33333333,  72.66666667,\n",
      "        84.        ,  93.33333333, 116.33333333])\n"
     ]
    }
   ],
   "source": [
    "import pprint as p #To access pretty_print\n",
    "\n",
    "def movingavg(i, x):\n",
    "    out = np.cumsum(i, dtype=float)\n",
    "    out[x:] = out[x:] - out[:-x]\n",
    "    final = out[x - 1:] / x\n",
    "    p.pprint(final)\n",
    "\n",
    "i = [3, 5, 7, 2, 8, 10, 11, 65, 72, 81, 99, 100, 150]\n",
    "movingavg(i, 3)"
   ]
  },
  {
   "cell_type": "code",
   "execution_count": null,
   "metadata": {},
   "outputs": [],
   "source": []
  }
 ],
 "metadata": {
  "kernelspec": {
   "display_name": "Python 3",
   "language": "python",
   "name": "python3"
  },
  "language_info": {
   "codemirror_mode": {
    "name": "ipython",
    "version": 3
   },
   "file_extension": ".py",
   "mimetype": "text/x-python",
   "name": "python",
   "nbconvert_exporter": "python",
   "pygments_lexer": "ipython3",
   "version": "3.7.6"
  }
 },
 "nbformat": 4,
 "nbformat_minor": 4
}
